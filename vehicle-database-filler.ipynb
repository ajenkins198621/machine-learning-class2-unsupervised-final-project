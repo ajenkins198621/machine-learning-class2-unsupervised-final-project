{
 "cells": [
  {
   "cell_type": "markdown",
   "metadata": {},
   "source": [
    "# Vehicle Database Filler\n",
    "\n",
    "By: Austin Jenkins\n",
    "Class: Unsupervised Algorithms in Machine Learning"
   ]
  },
  {
   "cell_type": "markdown",
   "metadata": {},
   "source": [
    "## Table of Contents <a name=\"tableofcontents\"></a>\n",
    "1. [Table of Contents](#tableofcontents)\n",
    "2. [Introduction](#Introduction)\n",
    "3. [Data](#Data)"
   ]
  },
  {
   "cell_type": "markdown",
   "metadata": {},
   "source": [
    "## Introduction <a name=\"Introduction\"></a>"
   ]
  },
  {
   "cell_type": "markdown",
   "metadata": {},
   "source": [
    "### Background\n",
    "I have a small company that I run as a project that gathers information about GM vehicles.  Within this company, we parse PDF invoices and extract important information from them.  Since this data comes across as a list of strings, we need to convert this data into a structured format.  I've been doing this in PHP and extracting the data based on the position of the data in the string.  This can sometimes lead to incorrect results.  So, I want to try to use machine learning to extract the data from the strings and fill in any missing parts."
   ]
  },
  {
   "cell_type": "markdown",
   "metadata": {},
   "source": [
    "### About the Data\n",
    "\n",
    "I currently have a MySQL database that contains many tables, but the one we're most interested in is the `vehicles` table.  This table contains the following columns:\n",
    "- vin - A 17 digit string that is unique to each vehicle\n",
    "- year - The year the vehicle was made\n",
    "- make - The make of the vehicle (ex: Chevrolet, GMC, etc.)\n",
    "- peg_rpo_code - A 3 digit string code that represents the vehicle's trim level\n",
    "- peg_description - A description of the vehicle's trim level\n",
    "- exterior_color_rpo_code - A 3 digit string code that represents the vehicle's exterior color\n",
    "- exterior_color_description - A description of the vehicle's exterior color\n",
    "- interior_color_rpo_code - A 3 digit string code that represents the vehicle's interior color\n",
    "- interior_color_description - A description of the vehicle's interior color\n",
    "- engine_rpo_code - A 3 digit string code that represents the vehicle's engine\n",
    "- engine_description - A description of the vehicle's engine\n",
    "- transmission_rpo_code - A 3 digit string code that represents the vehicle's transmission\n",
    "- transmission_description - A description of the vehicle's transmission\n",
    "\n",
    "This data does not include the long string from the PDF of the vehicle.  To add this in, I had to write a script within the app which was written in PHP to convert the PDF to a string and append it to each.  This process took quite a while to run.  Within this script I had it output to a csv so that we can use it for our modeling.  This csv is located within the /data/train.csv folder of this repository.\n",
    "\n",
    "We started collecting this data in 2019 so the data is quite large considering the invoice string is long.  The initial data set is XXX columns and a total size of YYY.\n",
    "\n",
    "### Problem Description\n",
    "\n",
    "Given the long string of the invoice, we want to predict the missing values in the `vehicles` table.  We will use the `train.csv` file to train our model and the `test.csv` file to test our model. "
   ]
  }
 ],
 "metadata": {
  "language_info": {
   "name": "python"
  }
 },
 "nbformat": 4,
 "nbformat_minor": 2
}
